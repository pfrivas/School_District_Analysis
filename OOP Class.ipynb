{
 "cells": [
  {
   "cell_type": "code",
   "execution_count": 1,
   "id": "82c844c4",
   "metadata": {},
   "outputs": [],
   "source": [
    "# Object-oriented programming (OOP) is a way of organizing information in programming. \n",
    "    # It is based on the concepts of classes and objects. \n",
    "        # Imagine a mold for a toy car at a toy factory. \n",
    "        # The mold can be used to create identical toy cars, but each car is a separate object. \n",
    "        # If a child places a sticker on one particular car, for example, only that car will have the sticker. \n",
    "        # In object-oriented programming, the class is like the mold, and the object is like a particular toy car.\n",
    "\n",
    "#Let's take a look at an example of a class and objects in Python. To create a class called Cat, let's try the following code."
   ]
  },
  {
   "cell_type": "code",
   "execution_count": 2,
   "id": "160e14a9",
   "metadata": {},
   "outputs": [],
   "source": [
    "class Cat:\n",
    "    def __init__(self, name):\n",
    "        self.name = name"
   ]
  },
  {
   "cell_type": "code",
   "execution_count": 4,
   "id": "906bdf4d",
   "metadata": {},
   "outputs": [
    {
     "name": "stdout",
     "output_type": "stream",
     "text": [
      "Felix\n"
     ]
    }
   ],
   "source": [
    "# In this example, the keyword class is used to create a class. \n",
    "    # Then, the __init__ method is a special method called a \"class constructor\" that Python calls every time a new instance of the class is created. \n",
    "    # This method takes two arguments: self and name. \n",
    "        # The self argument refers to a specific Cat object that is created when this method is called. \n",
    "        # The second argument, name, will be specified each time a new Cat object is created. \n",
    "    # Let's look at how to do this.\n",
    "    \n",
    "first_cat = Cat('Felix')\n",
    "print(first_cat.name)"
   ]
  },
  {
   "cell_type": "code",
   "execution_count": null,
   "id": "20c7d202",
   "metadata": {},
   "outputs": [],
   "source": [
    "# Here, an object whose name is Felix is created, or instantiated. \n",
    "    # Since it is assigned to the variable first_cat, first_cat.name returns Felix. \n",
    "    # Pay attention to the dot notation in this example. \n",
    "    # The name attribute does not belong to all Cat objects; it belongs to the specific Cat object called first_cat.\n"
   ]
  },
  {
   "cell_type": "code",
   "execution_count": 5,
   "id": "306d24e0",
   "metadata": {},
   "outputs": [
    {
     "name": "stdout",
     "output_type": "stream",
     "text": [
      "Garfield\n"
     ]
    }
   ],
   "source": [
    "# SKILL DRILL\n",
    "    # Create another object of the Cat class. \n",
    "        # Its name should be Garfield\n",
    "        # the object should be assigned to the variable second_cat. \n",
    "        # What does second_cat.name return?\n",
    "\n",
    "second_cat = Cat('Garfield')\n",
    "print(second_cat.name)\n"
   ]
  },
  {
   "cell_type": "code",
   "execution_count": 6,
   "id": "082acc6f",
   "metadata": {},
   "outputs": [],
   "source": [
    "# In OOP, an object can have attributes, such as name in the example above. \n",
    "    # It can also perform actions through functions. \n",
    "    # Let's now create a Dog class.\n",
    "    \n",
    "class Dog:\n",
    "    def __init__(self, name, color, sound):\n",
    "        self.name = name\n",
    "        self.color = color\n",
    "        self.sound = sound\n",
    "\n",
    "    def bark(self):\n",
    "        return self.sound + ' ' + self.sound"
   ]
  },
  {
   "cell_type": "code",
   "execution_count": 8,
   "id": "bf53b1d3",
   "metadata": {},
   "outputs": [
    {
     "name": "stdout",
     "output_type": "stream",
     "text": [
      "Fido\n",
      "brown\n"
     ]
    },
    {
     "data": {
      "text/plain": [
       "'woof! woof!'"
      ]
     },
     "execution_count": 8,
     "metadata": {},
     "output_type": "execute_result"
    }
   ],
   "source": [
    "# This class contains three attributes: name, color, and sound. \n",
    "    # It also contains a method, or a function that is associated with an object. \n",
    "    # This means that an object created from this Dog class can now perform an action through the bark method. \n",
    "    # Let's instantiate an object.\n",
    "first_dog = Dog('Fido', 'brown', 'woof!')\n",
    "print(first_dog.name)\n",
    "print(first_dog.color)\n",
    "first_dog.bark()\n"
   ]
  },
  {
   "cell_type": "code",
   "execution_count": null,
   "id": "b15876d1",
   "metadata": {},
   "outputs": [],
   "source": [
    "# The first_dog's bark method returns the first_dog's sound property twice: \n",
    "    # because the sound property is woof! for this object, calling the bark method returns woof! woof!."
   ]
  },
  {
   "cell_type": "code",
   "execution_count": 9,
   "id": "1abe2afd",
   "metadata": {},
   "outputs": [
    {
     "name": "stdout",
     "output_type": "stream",
     "text": [
      "Lady\n",
      "blonde\n"
     ]
    },
    {
     "data": {
      "text/plain": [
       "'arf! arf!'"
      ]
     },
     "execution_count": 9,
     "metadata": {},
     "output_type": "execute_result"
    }
   ],
   "source": [
    "# SKILL DRILL\n",
    "    # Initiate another object of the Dog class. \n",
    "        # Its name should be Lady, its color should be blonde, and its sound should be arf!. \n",
    "        # The object should be assigned to the variable second_dog. \n",
    "        # Call this object's bark method.\n",
    "        \n",
    "second_dog = Dog('Lady', 'blonde', 'arf!')\n",
    "print(second_dog.name)\n",
    "print(second_dog.color)\n",
    "second_dog.bark()"
   ]
  },
  {
   "cell_type": "code",
   "execution_count": 11,
   "id": "f2047fe7",
   "metadata": {},
   "outputs": [],
   "source": [
    "# In a nutshell, object-oriented programming uses classes and objects to organize information: \n",
    "    # an object can hold attributes, and it can also run functions. \n",
    "    # When a function is associated with an object, it is called a method. \n",
    "    # If an object's attributes are like its adjectives and nouns (\"color\" and \"name\" for example), then its methods are like its verbs (\"bark\").\n",
    "\n",
    "# Finally, remember that if you wanted to preview a Pandas DataFrame called df, \n",
    "    # you would call its head method.\n",
    "        # df.head()"
   ]
  },
  {
   "cell_type": "code",
   "execution_count": null,
   "id": "60e15253",
   "metadata": {},
   "outputs": [],
   "source": [
    "# The dot notation used here should be a clue that the Pandas uses object-oriented programming to create an object called df, \n",
    "    # which represents a DataFrame, and that this object has a method called head, which returns the first five rows of data."
   ]
  }
 ],
 "metadata": {
  "kernelspec": {
   "display_name": "Python 3 (ipykernel)",
   "language": "python",
   "name": "python3"
  },
  "language_info": {
   "codemirror_mode": {
    "name": "ipython",
    "version": 3
   },
   "file_extension": ".py",
   "mimetype": "text/x-python",
   "name": "python",
   "nbconvert_exporter": "python",
   "pygments_lexer": "ipython3",
   "version": "3.9.13"
  }
 },
 "nbformat": 4,
 "nbformat_minor": 5
}
