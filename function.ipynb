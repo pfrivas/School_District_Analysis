{
 "cells": [
  {
   "cell_type": "code",
   "execution_count": null,
   "id": "36b2e313",
   "metadata": {},
   "outputs": [],
   "source": [
    "# OVERVIEW OF FUNCTIONS\n",
    "    # When writing algorithms that perform a repetitive task, like getting grade averages over and over again, \n",
    "        # it's a best practice to convert the algorithm to a function. \n",
    "        # A function is a smaller, more manageable piece of code.\n",
    "\n",
    "    # Long algorithms can increase the chance of syntax errors and repeated variable assignments, \n",
    "        # which can lead to programming headaches—especially if your code is more than 200 lines. \n",
    "        # Breaking your code into manageable pieces has many advantages. \n",
    "        # You can:\n",
    "            # Debug and fix errors faster.\n",
    "            # Make your code more readable.\n",
    "            # Reuse code by importing functions into other algorithms.\n",
    "            # Speed up programming development. \n",
    "                # Multiple team members can work on separate functions of a complex algorithm to speed up the development of the project.\n",
    "\n",
    "    # A hallmark of professional programmers is that they can take long blocks of code and write smaller pieces of that code as functions.\n",
    "        # There are four basic parts to a function:\n",
    "            # The name, which is what we call the function\n",
    "            # The parameters, which are values we send to the function\n",
    "            # The code block, which are the statements under the function that perform the task\n",
    "            # The return value, which is what the function gives back, or \"returns,\" to use when the task is complete"
   ]
  },
  {
   "cell_type": "code",
   "execution_count": null,
   "id": "d862d02b",
   "metadata": {},
   "outputs": [],
   "source": [
    " # NAMING FUNCTIONS\n",
    "    # The name of a function can be almost anything you want, \n",
    "        # but it should be descriptive enough so that anyone reading your code can reasonably guess what the function does. \n",
    "        # It's generally thought of as a best coding practice to write the name of the function as a verb, as functions perform actions. \n",
    "        # However, Python requires that you follow the same rules that you follow when naming variables.\n",
    "            # Variable names in Python can be any length and can consist of the following:\n",
    "                # Uppercase letters (A–Z)\n",
    "                # Lowercase letters (a–z)\n",
    "                # Digits (0–9)\n",
    "                # Underscores (_). Also, the first character of a variable name cannot be a digit.\n",
    "    # When it comes to naming functions, there are two additional rules and two caveats to the variable naming rules.\n",
    "        # The name cannot be a Python keyword.\n",
    "        # The name cannot contain spaces.\n",
    "        # The first character of the name must be an uppercase or lowercase letter or an underscore.\n",
    "        # After the first character, you can use uppercase and lowercase letters, digits 0 through 9, or an underscore."
   ]
  },
  {
   "cell_type": "code",
   "execution_count": 4,
   "id": "6ee566da",
   "metadata": {},
   "outputs": [],
   "source": [
    "# PARTS OF A FUNCTION\n",
    "    # Define the function \"say_hello\" so it prints \"Hello!\" when called.\n",
    "\n",
    "def say_hello():\n",
    "    print(\"Hello!\")\n",
    "   \n",
    "    # Let's go over what is happening in this function.\n",
    "        # The def keyword, which is short for \"define,\" and is used to create the function.\n",
    "        # The function name, say_hello(), is always written after def.\n",
    "        # There is a colon after the function name, which tells Python that a code block or statement will follow. This is similar to conditional and repetition statements. All code within the function should be indented.\n",
    "        # The indented statement that follows is print(\"Hello!\").\n",
    "    \n",
    "    # When you run the code, nothing appears to happen because we don't see an output error. \n",
    "        # To get the function to print \"Hello!\" in the output cell, we have to call the function.\n",
    "        # To call the say_hello() function, type say_hello() in a new cell and run the cell."
   ]
  },
  {
   "cell_type": "code",
   "execution_count": 5,
   "id": "a6a76d75",
   "metadata": {},
   "outputs": [
    {
     "name": "stdout",
     "output_type": "stream",
     "text": [
      "Hello!\n"
     ]
    }
   ],
   "source": [
    "# CALLING A FUNCTION\n",
    "    # To call the say_hello() function, type say_hello() in a new cell and run the cell.\n",
    "    # # Call the function.\n",
    "say_hello()"
   ]
  },
  {
   "cell_type": "code",
   "execution_count": 12,
   "id": "1d420350",
   "metadata": {},
   "outputs": [],
   "source": [
    "    # Now we'll build on our knowledge of functions and add a parameter inside the parentheses of a new function, say_something(). \n",
    "        # A parameter is a value that we send to the function.\n",
    "        # Add the following code to a new cell and run the cell.\n",
    "\n",
    "        # Define the function \"say_something\" so it prints whatever is passed as the variable when called.\n",
    "\n",
    "    def say_something(something):\n",
    "        print(something)\n",
    "    \n",
    "    # Inside the parentheses, we added the variable something. \n",
    "        # When this function gets called, it will print whatever we have added inside the parentheses of the function. \n",
    "        # This doesn't have to be the word \"something\"; it can be whatever you want it to be."
   ]
  },
  {
   "cell_type": "code",
   "execution_count": 14,
   "id": "a17d5305",
   "metadata": {},
   "outputs": [
    {
     "name": "stdout",
     "output_type": "stream",
     "text": [
      "Hello World\n"
     ]
    }
   ],
   "source": [
    "    # add \"Hello World\" inside the parentheses of the function, say_something().\n",
    "    # Call the function.\n",
    "    say_something(\"Hello World\")\n",
    "    \n",
    "    # When we call the function, i.e., run the cell, \"Hello World\" is printed to the output."
   ]
  },
  {
   "cell_type": "code",
   "execution_count": 16,
   "id": "e066ae44",
   "metadata": {},
   "outputs": [
    {
     "name": "stdout",
     "output_type": "stream",
     "text": [
      "Hi, my name is Jane. I'm learning Python!\n"
     ]
    }
   ],
   "source": [
    "    # Like the string \"Hello World,\" we can also pass a variable inside the function and have that variable printed to the output. \n",
    "        # In the following code, Jane introduces herself with the string \"Hi, my name is Jane. I'm learning Python!\" \n",
    "        # We can print her introduction by adding the variable Jane_says inside the say_something() function:\n",
    "Jane_says = \"Hi, my name is Jane. I'm learning Python!\"\n",
    "say_something(Jane_says)\n"
   ]
  },
  {
   "cell_type": "code",
   "execution_count": 18,
   "id": "3a6c69ec",
   "metadata": {},
   "outputs": [],
   "source": [
    "# THE PANDAS map() function\n",
    "    # the map() function is used for substituting each value in a Series with another value. \n",
    "    # Where the new value is generated from a function, a dictionary, or a Series. \n",
    "    # Let's look at an example of the map() function.\n",
    "    \n",
    "# A list of my grades.\n",
    "my_grades = ['B', 'C', 'B' , 'D']"
   ]
  },
  {
   "cell_type": "code",
   "execution_count": 22,
   "id": "edc7b72b",
   "metadata": {},
   "outputs": [
    {
     "data": {
      "text/plain": [
       "0    B\n",
       "1    C\n",
       "2    B\n",
       "3    D\n",
       "dtype: object"
      ]
     },
     "execution_count": 22,
     "metadata": {},
     "output_type": "execute_result"
    }
   ],
   "source": [
    "# Import pandas.\n",
    "import pandas as pd\n",
    "# Convert the my_grades to a Series\n",
    "my_grades = pd.Series(my_grades)\n",
    "my_grades"
   ]
  },
  {
   "cell_type": "code",
   "execution_count": 24,
   "id": "dfc16c7d",
   "metadata": {},
   "outputs": [
    {
     "data": {
      "text/plain": [
       "0    A\n",
       "1    B\n",
       "2    A\n",
       "3    C\n",
       "dtype: object"
      ]
     },
     "execution_count": 24,
     "metadata": {},
     "output_type": "execute_result"
    }
   ],
   "source": [
    "# Using the map() function we are going to change B to A, C to B, and D to C. \n",
    "    # To change each string value in this Series to another value using the following format.\n",
    "    # map(\"current_value_1\" : \"new_value_1\",  \"current_value_2\" : \"new_value_2\", etc)\n",
    "\n",
    "# Change the grades by one letter grade.\n",
    "my_grades.map({'B': 'A', 'C': 'B', 'D': 'C'})\n",
    "\n",
    "# Since we had two grades that were a \"B\", we didn't need to map the second \"B\" to an \"A\". \n",
    "    # This change was handled with the first substitution in the map() function"
   ]
  },
  {
   "cell_type": "code",
   "execution_count": 25,
   "id": "ec564fd8",
   "metadata": {},
   "outputs": [
    {
     "name": "stdout",
     "output_type": "stream",
     "text": [
      "92\n",
      "85\n",
      "87\n",
      "98\n"
     ]
    }
   ],
   "source": [
    "# THE PYTHON format() FUNCTION\n",
    "    # The Python format() function is used to format a value to a specific format, \n",
    "        # such as one or two decimal places, \n",
    "        # or adding a thousands separator. \n",
    "        # This function follows this syntax: \n",
    "            # \"{value:format specification}\".format(value)\n",
    "    # The \"value\" within the curly braces represents the value that we want to format. \n",
    "        # Usually, the value in the format(value) is a variable. \n",
    "        # After the colon, the format specification will designate how the value should be formatted.\n",
    "    # In this example, we are going to iterate through a list of grades and format each grade to the nearest whole number percent\n",
    "    \n",
    "# Using the format() function.\n",
    "my_grades = [92.34, 84.56, 86.78, 98.32]\n",
    "\n",
    "for grade in my_grades:\n",
    "    print(\"{:.0f}\".format(grade))\n",
    "    \n",
    "    # In this code, there is a list of grades formatted to two decimal places. \n",
    "        # To format these grades to the nearest whole number percent, we will do the following:\n",
    "            # Iterate through the grades.\n",
    "            # Pass the grade variable inside the format() function.\n",
    "            # Specify the format for the grade variable we would like by using {:.0f}.\n",
    "            # In this format, the grade variable is referenced in front of the colon, so there is no need to add the grade variable.\n",
    "            # After the colon, \n",
    "                # the .0f means to format the grade with no decimal place, where \n",
    "                    # the \"period\" is for the decimal place, \n",
    "                    # the \"0\" is for \"no\" decimal place, \n",
    "                    # and the \"f\" means floating-point decimal. \n",
    "                # If we wanted to format to one decimal place, we would use 1 instead of 0, and 2 for two decimal places, and so on."
   ]
  },
  {
   "cell_type": "code",
   "execution_count": 26,
   "id": "b98bb772",
   "metadata": {},
   "outputs": [
    {
     "data": {
      "text/plain": [
       "0    92.34\n",
       "1    84.56\n",
       "2    86.78\n",
       "3    78.32\n",
       "dtype: float64"
      ]
     },
     "execution_count": 26,
     "metadata": {},
     "output_type": "execute_result"
    }
   ],
   "source": [
    "# CHAINING THE map() and format() FUNCTIONS\n",
    "\n",
    "# Convert the numerical grades to a Series.\n",
    "my_grades = pd.Series([92.34, 84.56, 86.78, 78.32])\n",
    "my_grades"
   ]
  },
  {
   "cell_type": "code",
   "execution_count": 27,
   "id": "0cc75c88",
   "metadata": {},
   "outputs": [
    {
     "data": {
      "text/plain": [
       "0    92\n",
       "1    85\n",
       "2    87\n",
       "3    78\n",
       "dtype: object"
      ]
     },
     "execution_count": 27,
     "metadata": {},
     "output_type": "execute_result"
    }
   ],
   "source": [
    "# Format the grades to the nearest whole number percent.\n",
    "my_grades.map(\"{:.0f}\".format)"
   ]
  },
  {
   "cell_type": "code",
   "execution_count": null,
   "id": "8db04716",
   "metadata": {},
   "outputs": [],
   "source": []
  }
 ],
 "metadata": {
  "kernelspec": {
   "display_name": "Python 3 (ipykernel)",
   "language": "python",
   "name": "python3"
  },
  "language_info": {
   "codemirror_mode": {
    "name": "ipython",
    "version": 3
   },
   "file_extension": ".py",
   "mimetype": "text/x-python",
   "name": "python",
   "nbconvert_exporter": "python",
   "pygments_lexer": "ipython3",
   "version": "3.9.13"
  }
 },
 "nbformat": 4,
 "nbformat_minor": 5
}
